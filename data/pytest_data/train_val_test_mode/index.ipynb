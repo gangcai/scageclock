{
 "cells": [
  {
   "cell_type": "code",
   "execution_count": 1,
   "id": "93b7764e-3e43-4805-a841-f13c366dae0a",
   "metadata": {},
   "outputs": [],
   "source": [
    "import scanpy as sc"
   ]
  },
  {
   "cell_type": "code",
   "execution_count": 2,
   "id": "33a68be0-4c85-4356-962e-284bcdd41569",
   "metadata": {},
   "outputs": [],
   "source": [
    "## this is for local including of scageclock, can be skipped when scageclock pip package is installed\n",
    "import sys\n",
    "import os\n",
    "\n",
    "#use local version scageclock\n",
    "pkg_path = os.path.abspath(\"/home/gangcai/github/scAgingClockV2/scageclock\")\n",
    "# Add the path to sys.path\n",
    "sys.path.append(pkg_path)"
   ]
  },
  {
   "cell_type": "code",
   "execution_count": 3,
   "id": "ee929f77-1c5f-45ad-b0e1-5af530a2fd3e",
   "metadata": {},
   "outputs": [],
   "source": [
    "from scageclock.h5ad_dataloader import get_cell_id_index"
   ]
  },
  {
   "cell_type": "code",
   "execution_count": 4,
   "id": "6c55ecec-4212-47f4-a25a-f8777fcedec5",
   "metadata": {},
   "outputs": [],
   "source": [
    "import pandas as pd"
   ]
  },
  {
   "cell_type": "code",
   "execution_count": 5,
   "id": "dd9b4f1b-2861-4239-86a5-ab61ff1e99f1",
   "metadata": {},
   "outputs": [],
   "source": [
    "for tag in [\"train\",\"test\",\"val\"]:\n",
    "    cell_id_index = get_cell_id_index(f\"./{tag}/\")\n",
    "    cell_id_index.to_parquet(f\"index_{tag}.parquet\")"
   ]
  }
 ],
 "metadata": {
  "kernelspec": {
   "display_name": "xgboost_gpu",
   "language": "python",
   "name": "xgboost_gpu"
  },
  "language_info": {
   "codemirror_mode": {
    "name": "ipython",
    "version": 3
   },
   "file_extension": ".py",
   "mimetype": "text/x-python",
   "name": "python",
   "nbconvert_exporter": "python",
   "pygments_lexer": "ipython3",
   "version": "3.12.7"
  }
 },
 "nbformat": 4,
 "nbformat_minor": 5
}
