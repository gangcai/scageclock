{
 "cells": [
  {
   "cell_type": "code",
   "execution_count": 1,
   "id": "7998a63e-f531-4908-a470-65714eee75ae",
   "metadata": {},
   "outputs": [],
   "source": [
    "import pandas as pd"
   ]
  },
  {
   "cell_type": "code",
   "execution_count": 2,
   "id": "222dfc87-e8bf-4ac2-975b-0736a8b33808",
   "metadata": {},
   "outputs": [],
   "source": [
    "import glob"
   ]
  },
  {
   "cell_type": "code",
   "execution_count": 3,
   "id": "0121d869-e48e-4be4-89f6-c6033e499d02",
   "metadata": {},
   "outputs": [],
   "source": [
    "import scanpy as sc"
   ]
  },
  {
   "cell_type": "code",
   "execution_count": 4,
   "id": "fdb1a238-24c4-4326-8f3c-1b5334fae5ba",
   "metadata": {},
   "outputs": [],
   "source": [
    "h5ad_files = glob.glob(\"k_fold_mode/train_val/*/*.h5ad\")"
   ]
  },
  {
   "cell_type": "code",
   "execution_count": 5,
   "id": "925b4b55-a614-4b15-9de7-413983f3980e",
   "metadata": {},
   "outputs": [],
   "source": [
    "all_cell_ids = []"
   ]
  },
  {
   "cell_type": "code",
   "execution_count": 6,
   "id": "b4d74654-ac2c-46ef-9179-fe7c838093d0",
   "metadata": {},
   "outputs": [],
   "source": [
    "for h5ad_file in h5ad_files:\n",
    "    ad = sc.read_h5ad(h5ad_file)\n",
    "    cell_ids = list(ad.obs[\"soma_joinid\"])\n",
    "    all_cell_ids = all_cell_ids + cell_ids"
   ]
  },
  {
   "cell_type": "code",
   "execution_count": 7,
   "id": "a2a8da95-631e-498b-8978-c4f1246233f3",
   "metadata": {},
   "outputs": [],
   "source": [
    "meta_df = pd.read_parquet(\"/home/gangcai/database/public_db/CZCELLxGENE/whole_datasets/CZCELLxGENE_Human_All/normal_clean/meta_data/CZCELLxGENE_ScAgeClock_meta_filtered_and_splitted.parquet\")"
   ]
  },
  {
   "cell_type": "code",
   "execution_count": 8,
   "id": "e87ff7d4-cd80-4b32-a15e-a5d5b5795ae4",
   "metadata": {},
   "outputs": [],
   "source": [
    "meta_df_s = meta_df[meta_df[\"soma_joinid\"].isin(all_cell_ids)]"
   ]
  },
  {
   "cell_type": "code",
   "execution_count": 9,
   "id": "8a6ed46c-5c65-436c-b67e-77c36401bbbc",
   "metadata": {},
   "outputs": [
    {
     "data": {
      "text/plain": [
       "(1000, 31)"
      ]
     },
     "execution_count": 9,
     "metadata": {},
     "output_type": "execute_result"
    }
   ],
   "source": [
    "meta_df_s.shape"
   ]
  },
  {
   "cell_type": "code",
   "execution_count": 10,
   "id": "2ed2eec1-e051-4974-a1e5-86ff682f61b2",
   "metadata": {},
   "outputs": [
    {
     "data": {
      "text/html": [
       "<div>\n",
       "<style scoped>\n",
       "    .dataframe tbody tr th:only-of-type {\n",
       "        vertical-align: middle;\n",
       "    }\n",
       "\n",
       "    .dataframe tbody tr th {\n",
       "        vertical-align: top;\n",
       "    }\n",
       "\n",
       "    .dataframe thead th {\n",
       "        text-align: right;\n",
       "    }\n",
       "</style>\n",
       "<table border=\"1\" class=\"dataframe\">\n",
       "  <thead>\n",
       "    <tr style=\"text-align: right;\">\n",
       "      <th></th>\n",
       "      <th>soma_joinid</th>\n",
       "      <th>dataset_id</th>\n",
       "      <th>assay</th>\n",
       "      <th>assay_ontology_term_id</th>\n",
       "      <th>cell_type</th>\n",
       "      <th>cell_type_ontology_term_id</th>\n",
       "      <th>development_stage</th>\n",
       "      <th>development_stage_ontology_term_id</th>\n",
       "      <th>disease</th>\n",
       "      <th>disease_ontology_term_id</th>\n",
       "      <th>...</th>\n",
       "      <th>tissue_general</th>\n",
       "      <th>tissue_general_ontology_term_id</th>\n",
       "      <th>raw_sum</th>\n",
       "      <th>nnz</th>\n",
       "      <th>raw_mean_nnz</th>\n",
       "      <th>raw_variance_nnz</th>\n",
       "      <th>n_measured_vars</th>\n",
       "      <th>age</th>\n",
       "      <th>donor_id_general</th>\n",
       "      <th>split_tag</th>\n",
       "    </tr>\n",
       "  </thead>\n",
       "  <tbody>\n",
       "    <tr>\n",
       "      <th>8937598</th>\n",
       "      <td>8937598</td>\n",
       "      <td>d8da613f-e681-4c69-b463-e94f5e66847f</td>\n",
       "      <td>10x 3' v3</td>\n",
       "      <td>EFO:0009922</td>\n",
       "      <td>alveolar macrophage</td>\n",
       "      <td>CL:0000583</td>\n",
       "      <td>79-year-old human stage</td>\n",
       "      <td>HsapDv:0000173</td>\n",
       "      <td>normal</td>\n",
       "      <td>PATO:0000461</td>\n",
       "      <td>...</td>\n",
       "      <td>lung</td>\n",
       "      <td>UBERON:0002048</td>\n",
       "      <td>13678.0</td>\n",
       "      <td>4190</td>\n",
       "      <td>3.264439</td>\n",
       "      <td>72.588446</td>\n",
       "      <td>34170</td>\n",
       "      <td>79.0</td>\n",
       "      <td>C53ctr</td>\n",
       "      <td>train_val</td>\n",
       "    </tr>\n",
       "    <tr>\n",
       "      <th>8937599</th>\n",
       "      <td>8937599</td>\n",
       "      <td>d8da613f-e681-4c69-b463-e94f5e66847f</td>\n",
       "      <td>10x 3' v3</td>\n",
       "      <td>EFO:0009922</td>\n",
       "      <td>fibroblast</td>\n",
       "      <td>CL:0000057</td>\n",
       "      <td>79-year-old human stage</td>\n",
       "      <td>HsapDv:0000173</td>\n",
       "      <td>normal</td>\n",
       "      <td>PATO:0000461</td>\n",
       "      <td>...</td>\n",
       "      <td>lung</td>\n",
       "      <td>UBERON:0002048</td>\n",
       "      <td>12570.0</td>\n",
       "      <td>4088</td>\n",
       "      <td>3.074853</td>\n",
       "      <td>146.908024</td>\n",
       "      <td>34170</td>\n",
       "      <td>79.0</td>\n",
       "      <td>C53ctr</td>\n",
       "      <td>train_val</td>\n",
       "    </tr>\n",
       "  </tbody>\n",
       "</table>\n",
       "<p>2 rows × 31 columns</p>\n",
       "</div>"
      ],
      "text/plain": [
       "         soma_joinid                            dataset_id      assay  \\\n",
       "8937598      8937598  d8da613f-e681-4c69-b463-e94f5e66847f  10x 3' v3   \n",
       "8937599      8937599  d8da613f-e681-4c69-b463-e94f5e66847f  10x 3' v3   \n",
       "\n",
       "        assay_ontology_term_id            cell_type  \\\n",
       "8937598            EFO:0009922  alveolar macrophage   \n",
       "8937599            EFO:0009922           fibroblast   \n",
       "\n",
       "        cell_type_ontology_term_id        development_stage  \\\n",
       "8937598                 CL:0000583  79-year-old human stage   \n",
       "8937599                 CL:0000057  79-year-old human stage   \n",
       "\n",
       "        development_stage_ontology_term_id disease disease_ontology_term_id  \\\n",
       "8937598                     HsapDv:0000173  normal             PATO:0000461   \n",
       "8937599                     HsapDv:0000173  normal             PATO:0000461   \n",
       "\n",
       "         ... tissue_general  tissue_general_ontology_term_id  raw_sum   nnz  \\\n",
       "8937598  ...           lung                   UBERON:0002048  13678.0  4190   \n",
       "8937599  ...           lung                   UBERON:0002048  12570.0  4088   \n",
       "\n",
       "        raw_mean_nnz raw_variance_nnz n_measured_vars   age donor_id_general  \\\n",
       "8937598     3.264439        72.588446           34170  79.0           C53ctr   \n",
       "8937599     3.074853       146.908024           34170  79.0           C53ctr   \n",
       "\n",
       "         split_tag  \n",
       "8937598  train_val  \n",
       "8937599  train_val  \n",
       "\n",
       "[2 rows x 31 columns]"
      ]
     },
     "execution_count": 10,
     "metadata": {},
     "output_type": "execute_result"
    }
   ],
   "source": [
    "meta_df_s[:2]"
   ]
  },
  {
   "cell_type": "code",
   "execution_count": 11,
   "id": "8d3dcc5f-a135-454f-8785-da6f2c1043b3",
   "metadata": {},
   "outputs": [],
   "source": [
    "meta_df_s.to_parquet(\"pytest_dataset_metadata.parquet\")"
   ]
  },
  {
   "cell_type": "code",
   "execution_count": null,
   "id": "19c7e846-18e0-4610-9c66-8960f0c135e5",
   "metadata": {},
   "outputs": [],
   "source": []
  }
 ],
 "metadata": {
  "kernelspec": {
   "display_name": "xgboost_gpu",
   "language": "python",
   "name": "xgboost_gpu"
  },
  "language_info": {
   "codemirror_mode": {
    "name": "ipython",
    "version": 3
   },
   "file_extension": ".py",
   "mimetype": "text/x-python",
   "name": "python",
   "nbconvert_exporter": "python",
   "pygments_lexer": "ipython3",
   "version": "3.12.7"
  }
 },
 "nbformat": 4,
 "nbformat_minor": 5
}
